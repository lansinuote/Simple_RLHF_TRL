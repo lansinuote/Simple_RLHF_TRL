{
 "cells": [
  {
   "cell_type": "code",
   "execution_count": 1,
   "id": "ab835cce",
   "metadata": {
    "scrolled": true
   },
   "outputs": [
    {
     "data": {
      "text/plain": [
       "<__main__.Tokenizer at 0x7ff914b08280>"
      ]
     },
     "execution_count": 1,
     "metadata": {},
     "output_type": "execute_result"
    }
   ],
   "source": [
    "import torch\n",
    "\n",
    "device = 'cuda' if torch.cuda.is_available() else 'cpu'\n",
    "\n",
    "%run 1.tokenizer.ipynb\n",
    "\n",
    "tokenizer"
   ]
  },
  {
   "cell_type": "code",
   "execution_count": 2,
   "id": "fb992d01",
   "metadata": {},
   "outputs": [
    {
     "data": {
      "text/plain": [
       "(2000000, {'text': '1577-8826=', 'label': 1})"
      ]
     },
     "execution_count": 2,
     "metadata": {},
     "output_type": "execute_result"
    }
   ],
   "source": [
    "%run 2.dataset.ipynb\n",
    "\n",
    "dataset = Dataset(negative_label=False, with_answer=False)\n",
    "\n",
    "len(dataset), dataset[0]"
   ]
  },
  {
   "cell_type": "code",
   "execution_count": 3,
   "id": "81ee37d4",
   "metadata": {
    "scrolled": true
   },
   "outputs": [
    {
     "name": "stderr",
     "output_type": "stream",
     "text": [
      "The `GPTNeoXSdpaAttention` class is deprecated in favor of simply modifying the `config._attn_implementation`attribute of the `GPTNeoXAttention` class! It will be removed in v4.48\n"
     ]
    },
    {
     "data": {
      "text/plain": [
       "GPTNeoXConfig {\n",
       "  \"_attn_implementation_autoset\": true,\n",
       "  \"_name_or_path\": \"model/ppo\",\n",
       "  \"architectures\": [\n",
       "    \"GPTNeoXForCausalLM\"\n",
       "  ],\n",
       "  \"attention_bias\": true,\n",
       "  \"attention_dropout\": 0.0,\n",
       "  \"bos_token_id\": 0,\n",
       "  \"classifier_dropout\": 0.1,\n",
       "  \"eos_token_id\": 1,\n",
       "  \"hidden_act\": \"gelu\",\n",
       "  \"hidden_dropout\": 0.0,\n",
       "  \"hidden_size\": 768,\n",
       "  \"initializer_range\": 0.02,\n",
       "  \"intermediate_size\": 3072,\n",
       "  \"layer_norm_eps\": 1e-05,\n",
       "  \"max_position_embeddings\": 2048,\n",
       "  \"model_type\": \"gpt_neox\",\n",
       "  \"num_attention_heads\": 12,\n",
       "  \"num_hidden_layers\": 12,\n",
       "  \"partial_rotary_factor\": 0.25,\n",
       "  \"rope_scaling\": null,\n",
       "  \"rope_theta\": 10000,\n",
       "  \"rotary_emb_base\": 10000,\n",
       "  \"rotary_pct\": 0.25,\n",
       "  \"tie_word_embeddings\": false,\n",
       "  \"torch_dtype\": \"float32\",\n",
       "  \"transformers_version\": \"4.48.0\",\n",
       "  \"use_cache\": true,\n",
       "  \"use_parallel_residual\": true,\n",
       "  \"vocab_size\": 19\n",
       "}"
      ]
     },
     "execution_count": 3,
     "metadata": {},
     "output_type": "execute_result"
    }
   ],
   "source": [
    "from transformers import AutoModelForCausalLM\n",
    "\n",
    "model_actor = AutoModelForCausalLM.from_pretrained('model/ppo').to(device)\n",
    "\n",
    "model_actor.config"
   ]
  },
  {
   "cell_type": "code",
   "execution_count": 4,
   "id": "dc57406a",
   "metadata": {
    "scrolled": false
   },
   "outputs": [
    {
     "name": "stdout",
     "output_type": "stream",
     "text": [
      "{'question': 'B278-4290=', 'answer': -4012, 'gen': '-4012E'}\n",
      "{'question': 'B1512*3394=', 'answer': 5131728, 'gen': '4956128E'}\n",
      "{'question': 'B5517*6921=', 'answer': 38183157, 'gen': '37428057E'}\n",
      "{'question': 'B9892*8802=', 'answer': 87069384, 'gen': '87248984E'}\n",
      "{'question': 'B2157-6686=', 'answer': -4529, 'gen': '-4529E'}\n",
      "{'question': 'B9746-4099=', 'answer': 5647, 'gen': '4647E'}\n",
      "{'question': 'B2008-3150=', 'answer': -1142, 'gen': '-1142E'}\n",
      "{'question': 'B5949-9098=', 'answer': -3149, 'gen': '-3149E'}\n",
      "{'question': 'B7138/6154=', 'answer': 1, 'gen': '1E'}\n",
      "{'question': 'B1306*2185=', 'answer': 2853610, 'gen': '3195810E'}\n",
      "{'question': 'B1644*103=', 'answer': 169332, 'gen': '218012E'}\n",
      "{'question': 'B3332-9696=', 'answer': -6364, 'gen': '-6364E'}\n"
     ]
    }
   ],
   "source": [
    "#====question====\n",
    "question = random.choices(dataset, k=12)\n",
    "question = [i['text'] for i in question]\n",
    "\n",
    "question = tokenizer(question,\n",
    "                     device=device,\n",
    "                     add_bos_token=True,\n",
    "                     add_eos_token=False,\n",
    "                     padding_side='left')['input_ids']\n",
    "\n",
    "#====gen====\n",
    "gen = model_actor.generate(input_ids=question,\n",
    "                           min_length=-1,\n",
    "                           max_length=50,\n",
    "                           pad_token_id=tokenizer.pad_token_id,\n",
    "                           eos_token_id=tokenizer.eos_token_id,\n",
    "                           top_k=0.0,\n",
    "                           top_p=1.0,\n",
    "                           do_sample=True)\n",
    "gen = gen[:, question.shape[1]:]\n",
    "\n",
    "for q, g in zip(question, gen):\n",
    "    q = tokenizer.decode(q)\n",
    "    g = tokenizer.decode(g)\n",
    "    a = q\n",
    "    a = a[a.index(tokenizer.bos_token) + 1:]\n",
    "    a = a[:a.index('=')]\n",
    "    a = int(eval(a))\n",
    "\n",
    "    print({'question': q, 'answer': a, 'gen': g})\n"
   ]
  }
 ],
 "metadata": {
  "kernelspec": {
   "display_name": "Python [conda env:pt2]",
   "language": "python",
   "name": "conda-env-pt2-py"
  },
  "language_info": {
   "codemirror_mode": {
    "name": "ipython",
    "version": 3
   },
   "file_extension": ".py",
   "mimetype": "text/x-python",
   "name": "python",
   "nbconvert_exporter": "python",
   "pygments_lexer": "ipython3",
   "version": "3.10.16"
  }
 },
 "nbformat": 4,
 "nbformat_minor": 5
}
