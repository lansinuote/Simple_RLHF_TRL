{
 "cells": [
  {
   "cell_type": "code",
   "execution_count": 1,
   "metadata": {},
   "outputs": [
    {
     "data": {
      "text/plain": [
       "{'text': ['9254*4895=33919990',\n",
       "  '3187/7790=0',\n",
       "  '3343-2590=42',\n",
       "  '9239/2508=59',\n",
       "  '2288/5074=0',\n",
       "  '927-9470=-8543',\n",
       "  '2366/6435=-38',\n",
       "  '7564-5984=473',\n",
       "  '9462/6437=1',\n",
       "  '5634/5081=1',\n",
       "  '6220-7426=-1206',\n",
       "  '7089-1280=5940',\n",
       "  '99-2207=1044',\n",
       "  '3430*6587=22593410',\n",
       "  '8577*7890=106065570',\n",
       "  '3698-1020=8957'],\n",
       " 'label': tensor([0, 1, 0, 0, 1, 1, 0, 0, 1, 1, 1, 0, 0, 1, 0, 0])}"
      ]
     },
     "execution_count": 1,
     "metadata": {},
     "output_type": "execute_result"
    }
   ],
   "source": [
    "import random\n",
    "import torch\n",
    "\n",
    "\n",
    "class Dataset(torch.utils.data.Dataset):\n",
    "\n",
    "    def __init__(self, negative_label, with_answer):\n",
    "        self.negative_label = negative_label\n",
    "        self.with_answer = with_answer\n",
    "\n",
    "    def __len__(self):\n",
    "        return 200_0000\n",
    "\n",
    "    def __getitem__(self, _):\n",
    "        question = '%d%s%d' % (random.randint(\n",
    "            1, 9999), random.choice('+-*/'), random.randint(1, 9999))\n",
    "        answer = int(eval(question))\n",
    "\n",
    "        label = 1\n",
    "        if self.negative_label and random.random() > 0.5:\n",
    "            label = 0\n",
    "            answer = answer + int(random.normalvariate(\n",
    "                0, answer)) + random.randint(-100, 100)\n",
    "\n",
    "        if not self.with_answer:\n",
    "            answer = ''\n",
    "\n",
    "        text = '%s=%s' % (question, str(answer))\n",
    "\n",
    "        return {'text': text, 'label': label}\n",
    "\n",
    "\n",
    "def get_loader(collate_fn, negative_label, with_answer):\n",
    "    dataset = Dataset(negative_label=negative_label, with_answer=with_answer)\n",
    "    return torch.utils.data.DataLoader(dataset,\n",
    "                                       batch_size=16,\n",
    "                                       shuffle=True,\n",
    "                                       drop_last=True,\n",
    "                                       collate_fn=collate_fn)\n",
    "\n",
    "\n",
    "next(iter(get_loader(None, negative_label=True, with_answer=True)))\n"
   ]
  }
 ],
 "metadata": {
  "kernelspec": {
   "display_name": "Python [conda env:pt2]",
   "language": "python",
   "name": "conda-env-pt2-py"
  },
  "language_info": {
   "codemirror_mode": {
    "name": "ipython",
    "version": 3
   },
   "file_extension": ".py",
   "mimetype": "text/x-python",
   "name": "python",
   "nbconvert_exporter": "python",
   "pygments_lexer": "ipython3",
   "version": "3.10.16"
  }
 },
 "nbformat": 4,
 "nbformat_minor": 2
}
