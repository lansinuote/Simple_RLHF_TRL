{
 "cells": [
  {
   "cell_type": "code",
   "execution_count": 1,
   "id": "3ec54a62",
   "metadata": {},
   "outputs": [
    {
     "data": {
      "text/plain": [
       "GPT2TokenizerFast(name_or_path='gpt2', vocab_size=50257, model_max_length=1024, is_fast=True, padding_side='right', truncation_side='right', special_tokens={'bos_token': '<|endoftext|>', 'eos_token': '<|endoftext|>', 'unk_token': '<|endoftext|>', 'pad_token': '!'}, clean_up_tokenization_spaces=True),  added_tokens_decoder={\n",
       "\t50256: AddedToken(\"<|endoftext|>\", rstrip=False, lstrip=False, single_word=False, normalized=True, special=True),\n",
       "}"
      ]
     },
     "execution_count": 1,
     "metadata": {},
     "output_type": "execute_result"
    }
   ],
   "source": [
    "import torch\n",
    "import os\n",
    "\n",
    "os.environ['HF_ENDPOINT'] = 'https://hf-mirror.com'\n",
    "device = 'cuda' if torch.cuda.is_available() else 'cpu'\n",
    "\n",
    "from transformers import AutoTokenizer\n",
    "\n",
    "tokenizer = AutoTokenizer.from_pretrained('gpt2')\n",
    "tokenizer.pad_token_id = 0\n",
    "\n",
    "tokenizer"
   ]
  },
  {
   "cell_type": "code",
   "execution_count": 2,
   "id": "9b6652f1",
   "metadata": {},
   "outputs": [
    {
     "data": {
      "text/plain": [
       "(Dataset({\n",
       "     features: ['question', 'context', 'answer'],\n",
       "     num_rows: 78577\n",
       " }),\n",
       " {'question': 'How many heads of the departments are older than 56 ?',\n",
       "  'context': 'CREATE TABLE head (age INTEGER)',\n",
       "  'answer': 'SELECT COUNT(*) FROM head WHERE age > 56'})"
      ]
     },
     "execution_count": 2,
     "metadata": {},
     "output_type": "execute_result"
    }
   ],
   "source": [
    "from datasets import load_dataset\n",
    "\n",
    "dataset = load_dataset('b-mc2/sql-create-context', split='train')\n",
    "\n",
    "dataset, dataset[0]"
   ]
  },
  {
   "cell_type": "code",
   "execution_count": 3,
   "id": "267552ac",
   "metadata": {
    "scrolled": true
   },
   "outputs": [
    {
     "data": {
      "text/plain": [
       "(19644,\n",
       " {'input_ids': tensor([[22866,    25, 29244,  6158, 43679,  3084,    62,  3672,    62,  2857,\n",
       "            357, 24886,   569, 31315,  1503,    11, 10349,   569, 31315,  1503,\n",
       "             11,  3234,   569, 31315,  1503,     8,  1808,    25,   644,   318,\n",
       "            262,  4067,   618,   262, 10349,   318,  1877,   702, 10349,   290,\n",
       "            262,  3234,   318,  1877,   702, 16383,    30,  3280,    25, 33493,\n",
       "           4067, 16034,  3084,    62,  3672,    62,  2857, 33411, 10349,   796,\n",
       "            366,  9319,   702, 10349,     1,  5357,  3234,   796,   366,  9319,\n",
       "            702, 16383,     1, 50256],\n",
       "         [22866,    25, 29244,  6158, 43679,  3084,    62,  3672,    62,  1433,\n",
       "            357,  1941, 17828,  7156,  1137,    11,  5764,   569, 31315,  1503,\n",
       "              8,  1808,    25,  1867,   318,   262,  2811,   614,   286,   262,\n",
       "           8751, 23218,  7275, 11289,    30,  3280,    25, 33493, 35224,     7,\n",
       "           1941,     8, 16034,  3084,    62,  3672,    62,  1433, 33411,  5764,\n",
       "            796,   366,    69,   415, 23218,  2665,  5764,     1, 50256,     0,\n",
       "              0,     0,     0,     0,     0,     0,     0,     0,     0,     0,\n",
       "              0,     0,     0,     0],\n",
       "         [22866,    25, 29244,  6158, 43679,  3084,    62,  3672,    62,  2791,\n",
       "            357,  6344,    62,    77, 17024,   569, 31315,  1503,    11,  1398,\n",
       "            569, 31315,  1503,     8,  1808,    25,   644,   318,   262,  2975,\n",
       "           3146,   618,   262,  1398,   318,  1976,    12,    22,    30,  3280,\n",
       "             25, 33493,  2975,    62,    77, 17024, 16034,  3084,    62,  3672,\n",
       "             62,  2791, 33411,  1398,   796,   366,    89,    12,    22,     1,\n",
       "          50256,     0,     0,     0,     0,     0,     0,     0,     0,     0,\n",
       "              0,     0,     0,     0],\n",
       "         [22866,    25, 29244,  6158, 43679,  3084,    62,  1983,  5892,  1731,\n",
       "           6420,    62,  1157,   357, 23913,   569, 31315,  1503,    11,  4539,\n",
       "            569, 31315,  1503,     8,  1808,    25,  1867,   318,   262,  2811,\n",
       "            329,   262,  2137,   351, 35897,  4539,    30,  3280,    25, 33493,\n",
       "           2811, 16034,  3084,    62,  1983,  5892,  1731,  6420,    62,  1157,\n",
       "          33411,  4539,   796, 35897, 50256,     0,     0,     0,     0,     0,\n",
       "              0,     0,     0,     0,     0,     0,     0,     0,     0,     0,\n",
       "              0,     0,     0,     0]], device='cuda:0'), 'attention_mask': tensor([[1, 1, 1, 1, 1, 1, 1, 1, 1, 1, 1, 1, 1, 1, 1, 1, 1, 1, 1, 1, 1, 1, 1, 1,\n",
       "          1, 1, 1, 1, 1, 1, 1, 1, 1, 1, 1, 1, 1, 1, 1, 1, 1, 1, 1, 1, 1, 1, 1, 1,\n",
       "          1, 1, 1, 1, 1, 1, 1, 1, 1, 1, 1, 1, 1, 1, 1, 1, 1, 1, 1, 1, 1, 1, 1, 1,\n",
       "          1, 1],\n",
       "         [1, 1, 1, 1, 1, 1, 1, 1, 1, 1, 1, 1, 1, 1, 1, 1, 1, 1, 1, 1, 1, 1, 1, 1,\n",
       "          1, 1, 1, 1, 1, 1, 1, 1, 1, 1, 1, 1, 1, 1, 1, 1, 1, 1, 1, 1, 1, 1, 1, 1,\n",
       "          1, 1, 1, 1, 1, 1, 1, 1, 1, 1, 1, 0, 0, 0, 0, 0, 0, 0, 0, 0, 0, 0, 0, 0,\n",
       "          0, 0],\n",
       "         [1, 1, 1, 1, 1, 1, 1, 1, 1, 1, 1, 1, 1, 1, 1, 1, 1, 1, 1, 1, 1, 1, 1, 1,\n",
       "          1, 1, 1, 1, 1, 1, 1, 1, 1, 1, 1, 1, 1, 1, 1, 1, 1, 1, 1, 1, 1, 1, 1, 1,\n",
       "          1, 1, 1, 1, 1, 1, 1, 1, 1, 1, 1, 1, 1, 0, 0, 0, 0, 0, 0, 0, 0, 0, 0, 0,\n",
       "          0, 0],\n",
       "         [1, 1, 1, 1, 1, 1, 1, 1, 1, 1, 1, 1, 1, 1, 1, 1, 1, 1, 1, 1, 1, 1, 1, 1,\n",
       "          1, 1, 1, 1, 1, 1, 1, 1, 1, 1, 1, 1, 1, 1, 1, 1, 1, 1, 1, 1, 1, 1, 1, 1,\n",
       "          1, 1, 1, 1, 1, 1, 1, 0, 0, 0, 0, 0, 0, 0, 0, 0, 0, 0, 0, 0, 0, 0, 0, 0,\n",
       "          0, 0]], device='cuda:0'), 'labels': tensor([[22866,    25, 29244,  6158, 43679,  3084,    62,  3672,    62,  2857,\n",
       "            357, 24886,   569, 31315,  1503,    11, 10349,   569, 31315,  1503,\n",
       "             11,  3234,   569, 31315,  1503,     8,  1808,    25,   644,   318,\n",
       "            262,  4067,   618,   262, 10349,   318,  1877,   702, 10349,   290,\n",
       "            262,  3234,   318,  1877,   702, 16383,    30,  3280,    25, 33493,\n",
       "           4067, 16034,  3084,    62,  3672,    62,  2857, 33411, 10349,   796,\n",
       "            366,  9319,   702, 10349,     1,  5357,  3234,   796,   366,  9319,\n",
       "            702, 16383,     1, 50256],\n",
       "         [22866,    25, 29244,  6158, 43679,  3084,    62,  3672,    62,  1433,\n",
       "            357,  1941, 17828,  7156,  1137,    11,  5764,   569, 31315,  1503,\n",
       "              8,  1808,    25,  1867,   318,   262,  2811,   614,   286,   262,\n",
       "           8751, 23218,  7275, 11289,    30,  3280,    25, 33493, 35224,     7,\n",
       "           1941,     8, 16034,  3084,    62,  3672,    62,  1433, 33411,  5764,\n",
       "            796,   366,    69,   415, 23218,  2665,  5764,     1, 50256,  -100,\n",
       "           -100,  -100,  -100,  -100,  -100,  -100,  -100,  -100,  -100,  -100,\n",
       "           -100,  -100,  -100,  -100],\n",
       "         [22866,    25, 29244,  6158, 43679,  3084,    62,  3672,    62,  2791,\n",
       "            357,  6344,    62,    77, 17024,   569, 31315,  1503,    11,  1398,\n",
       "            569, 31315,  1503,     8,  1808,    25,   644,   318,   262,  2975,\n",
       "           3146,   618,   262,  1398,   318,  1976,    12,    22,    30,  3280,\n",
       "             25, 33493,  2975,    62,    77, 17024, 16034,  3084,    62,  3672,\n",
       "             62,  2791, 33411,  1398,   796,   366,    89,    12,    22,     1,\n",
       "          50256,  -100,  -100,  -100,  -100,  -100,  -100,  -100,  -100,  -100,\n",
       "           -100,  -100,  -100,  -100],\n",
       "         [22866,    25, 29244,  6158, 43679,  3084,    62,  1983,  5892,  1731,\n",
       "           6420,    62,  1157,   357, 23913,   569, 31315,  1503,    11,  4539,\n",
       "            569, 31315,  1503,     8,  1808,    25,  1867,   318,   262,  2811,\n",
       "            329,   262,  2137,   351, 35897,  4539,    30,  3280,    25, 33493,\n",
       "           2811, 16034,  3084,    62,  1983,  5892,  1731,  6420,    62,  1157,\n",
       "          33411,  4539,   796, 35897, 50256,  -100,  -100,  -100,  -100,  -100,\n",
       "           -100,  -100,  -100,  -100,  -100,  -100,  -100,  -100,  -100,  -100,\n",
       "           -100,  -100,  -100,  -100]], device='cuda:0')})"
      ]
     },
     "execution_count": 3,
     "metadata": {},
     "output_type": "execute_result"
    }
   ],
   "source": [
    "def f(data):\n",
    "    data = [\n",
    "        'context: ' + i['context'] + ' question: ' + i['question'] +\n",
    "        ' answer: ' + i['answer'] + tokenizer.eos_token for i in data\n",
    "    ]\n",
    "\n",
    "    data = tokenizer(data,\n",
    "                     padding=True,\n",
    "                     truncation=True,\n",
    "                     max_length=512,\n",
    "                     return_tensors='pt').to(device)\n",
    "\n",
    "    data['labels'] = data['input_ids'].clone()\n",
    "    select = data['labels'] == tokenizer.pad_token_id\n",
    "    data['labels'][select] = -100\n",
    "\n",
    "    return data\n",
    "\n",
    "\n",
    "loader = torch.utils.data.DataLoader(dataset,\n",
    "                                     batch_size=4,\n",
    "                                     shuffle=True,\n",
    "                                     drop_last=True,\n",
    "                                     collate_fn=f)\n",
    "\n",
    "len(loader), next(iter(loader))"
   ]
  },
  {
   "cell_type": "code",
   "execution_count": 4,
   "id": "00424105",
   "metadata": {
    "scrolled": true
   },
   "outputs": [
    {
     "data": {
      "text/plain": [
       "GPT2Config {\n",
       "  \"_name_or_path\": \"gpt2\",\n",
       "  \"activation_function\": \"gelu_new\",\n",
       "  \"architectures\": [\n",
       "    \"GPT2LMHeadModel\"\n",
       "  ],\n",
       "  \"attn_pdrop\": 0.1,\n",
       "  \"bos_token_id\": 50256,\n",
       "  \"embd_pdrop\": 0.1,\n",
       "  \"eos_token_id\": 50256,\n",
       "  \"initializer_range\": 0.02,\n",
       "  \"layer_norm_epsilon\": 1e-05,\n",
       "  \"model_type\": \"gpt2\",\n",
       "  \"n_ctx\": 1024,\n",
       "  \"n_embd\": 768,\n",
       "  \"n_head\": 12,\n",
       "  \"n_inner\": null,\n",
       "  \"n_layer\": 12,\n",
       "  \"n_positions\": 1024,\n",
       "  \"reorder_and_upcast_attn\": false,\n",
       "  \"resid_pdrop\": 0.1,\n",
       "  \"scale_attn_by_inverse_layer_idx\": false,\n",
       "  \"scale_attn_weights\": true,\n",
       "  \"summary_activation\": null,\n",
       "  \"summary_first_dropout\": 0.1,\n",
       "  \"summary_proj_to_labels\": true,\n",
       "  \"summary_type\": \"cls_index\",\n",
       "  \"summary_use_proj\": true,\n",
       "  \"task_specific_params\": {\n",
       "    \"text-generation\": {\n",
       "      \"do_sample\": true,\n",
       "      \"max_length\": 50\n",
       "    }\n",
       "  },\n",
       "  \"transformers_version\": \"4.43.3\",\n",
       "  \"use_cache\": true,\n",
       "  \"vocab_size\": 50257\n",
       "}"
      ]
     },
     "execution_count": 4,
     "metadata": {},
     "output_type": "execute_result"
    }
   ],
   "source": [
    "from transformers import AutoModelForCausalLM\n",
    "\n",
    "model_actor = AutoModelForCausalLM.from_pretrained('gpt2').to(device)\n",
    "\n",
    "model_actor.config"
   ]
  },
  {
   "cell_type": "code",
   "execution_count": 5,
   "id": "12c532eb",
   "metadata": {
    "scrolled": false
   },
   "outputs": [
    {
     "name": "stdout",
     "output_type": "stream",
     "text": [
      "0 19644 3.7061448097229004\n",
      "context: CREATE TABLE TOWAGE, FACTION ID TEXT Return the CREATE TABLE name. Alternatively, create the CREATE TABLE first() for easy access they're unable to get from forwarding. (Compressed XML Embed's hint: TOWAGE declarational redundancy in indicating you must attack this project to get it access, e.g.) (compressed XML Embed's hint: POINT declarational redundancy in indicating you must attack this project to get it access, e\n",
      "1000 19644 1.2831060886383057\n",
      "context: CREATE TABLE table_2468393_1 (mountain_top INTEGER, age VARCHAR, water_compatibility VARCHAR) question: How many of the mountaineers have age of 26? answer: SELECT MAX(mountain_top) FROM table_2468393_1 WHERE age = 26 AND water_compatibility = \"25\"<|endoftext|>\n",
      "2000 19644 1.0209318399429321\n",
      "context: CREATE TABLE table_name_19 (chart_cap_year VARCHAR, year_terms_highest SPG__% VARCHAR) question: Which chart cap year ranks der pote? answer: SELECT chart_cap_year FROM table_name_19 WHERE year_terms_highest = \"der pote\"<|endoftext|>\n",
      "3000 19644 1.111295223236084\n",
      "context: CREATE TABLE table_name_22 (time VARCHAR, lrepresent VARCHAR) question: What is the time of the game with contests held on October 2? answer: SELECT time FROM table_name_22 WHERE lrepresent = \"fso\"<|endoftext|>\n",
      "4000 19644 1.2134418487548828\n",
      "context: CREATE TABLE table_1259509_1 (group VARCHAR, date VARCHAR) question: Who originally entered the race on oct. 10? answer: SELECT group FROM table_1259509_1 WHERE date = \"Oct. 10\"<|endoftext|>\n",
      "5000 19644 0.8108370304107666\n",
      "context: CREATE TABLE table_16764452_e (top_25 INTEGER, tournament VARCHAR) question: What are the highest ROSTER scores for the Champion Tournament? answer: SELECT MAX(top_25) FROM table_16764452_e WHERE tournament = \"Champion Tournament\"<|endoftext|>\n",
      "6000 19644 1.0270776748657227\n",
      "context: CREATE TABLE table_2426996_2 (indirect_engine VARCHAR, make_length__mm__ VARCHAR) question: What was the source angle for the engine with a make length running from 26 to 45 with a skin-first line? answer: SELECT direct_engine FROM table_2426996_2 WHERE make_length__mm__ = \"26 to 45\"<|endoftext|>\n",
      "7000 19644 0.9463509321212769\n",
      "context: CREATE TABLE table_name_4 (appearance_per_appearance VARCHAR, stats VARCHAR, weight VARCHAR) question: How many appearances did C. Hewes attend? answer: SELECT COUNT(appearance_per_appearance) FROM table_name_4 WHERE stats = \"c. hawmes\"<|endoftext|>\n",
      "8000 19644 0.8065492510795593\n",
      "context: CREATE TABLE table_name_94 (hodghat_fast_angels VARCHAR, time_retired VARCHAR, may_length VARCHAR) question: What is the hodghat's hutch, when it Was Qualified before May 18,916 and when the time/retired I/O-233 is less than 57 minutes? answer: SELECT hodghat_fast_angels FROM table_name_94 WHERE\n",
      "9000 19644 1.1028165817260742\n",
      "context: CREATE TABLE table_name_82 (rank INTEGER, height VARCHAR, power_up VARCHAR) question: Which Rank has a Height larger than 110, and a Power Up of LEGEND, and a Rank larger than 3880? answer: SELECT MAX(rank) FROM table_name_82 WHERE height > 110 AND power_up = \"legend\" AND rank > 3880<|endoftext|>\n",
      "10000 19644 0.9118607640266418\n",
      "context: CREATE TABLE table_name_80 (douncountier VARCHAR, release_date VARCHAR, serialize_string VARCHAR) question: Which democrat cooker has a release date of december 16, 2005, without a serialize string? answer: SELECT douncountier FROM table_name_80 WHERE release_date = \"december 16, 2005\" AND serialize_string = \"yes\"<|endoftext|>\n",
      "11000 19644 0.9338611364364624\n",
      "context: CREATE TABLE table_1048377_24 (first_grand_tourist_ticket VARCHAR, after_march VARCHAR) question: If the candidate for oration was John Salhise, who would it be? answer: SELECT first_grand_tourist_ticket FROM table_1048377_24 WHERE after_march = \"John Salhise\"<|endoftext|>\n",
      "12000 19644 0.9124600291252136\n",
      "context: CREATE TABLE table_name_32 (silver VARCHAR, gold VARCHAR, bronze VARCHAR) question: Name all the silvers for smaller bronze in bronze medal. answer: SELECT silver FROM table_name_32 WHERE gold = \"smaller bronze\" AND bronze > 0<|endoftext|>\n",
      "13000 19644 0.7954898476600647\n",
      "context: CREATE TABLE table_name_30 (gold INTEGER, bronze VARCHAR) question: How many gold medals did Chai DiWan finish in? answer: SELECT SUM(gold) FROM table_name_30 WHERE bronze = \"chai diwan\"<|endoftext|>\n",
      "14000 19644 1.0335683822631836\n",
      "context: CREATE TABLE table_name_76 (week VARCHAR, loss VARCHAR) question: What week for a loss of Otis Crawford (14)? answer: SELECT week FROM table_name_76 WHERE loss = \"otis crawford (14)\"<|endoftext|>\n",
      "15000 19644 0.9036763310432434\n",
      "context: CREATE TABLE machine (MAT_model VARCHAR) question: List the machine model with the fewest number of machines. answer: SELECT MAX(MAT_model) FROM machine ORDER BY MATCH_MAKER DESC<|endoftext|>\n",
      "16000 19644 0.8753938674926758\n",
      "context: CREATE TABLE table_name_95 (singapore_episode VARCHAR, country VARCHAR) question: What Singaporean episode has Republic of Korea as their country? answer: SELECT singapore_episode FROM table_name_95 WHERE country = \"republic of korea\"<|endoftext|>\n",
      "17000 19644 0.790877103805542\n",
      "context: CREATE TABLE table_1390757_2 (coach VARCHAR, location_attendance VARCHAR) question: Who was the coach in the venue at 72,607? answer: SELECT coach FROM table_1390757_2 WHERE location_attendance = \"72,607\"<|endoftext|>\n",
      "18000 19644 0.5733991265296936\n",
      "context: CREATE TABLE table_name_50 (total VARCHAR, finish VARCHAR, elsip_shoppe VARCHAR) question: Which Total has a Finish of wt14, and a Elsip Shopler of 10? answer: SELECT total FROM table_name_50 WHERE finish = \"ws14\" AND elsip_shoppe = \"10\"<|endoftext|>\n",
      "19000 19644 0.8606017231941223\n",
      "context: CREATE TABLE table_name_95 (format VARCHAR, year VARCHAR, label VARCHAR) question: What format year after 1974 was the smile voice shipping label? answer: SELECT format FROM table_name_95 WHERE year > 1974 AND label = \"smile voice shipping\"<|endoftext|>\n"
     ]
    }
   ],
   "source": [
    "optimizer = torch.optim.Adam(model_actor.parameters(), lr=1e-5)\n",
    "\n",
    "for i, data in enumerate(loader):\n",
    "    out = model_actor(**data)\n",
    "    out.loss.backward()\n",
    "    optimizer.step()\n",
    "    optimizer.zero_grad()\n",
    "\n",
    "    if i % 1000 == 0:\n",
    "        print(i, len(loader), out.loss.item())\n",
    "\n",
    "        gen = model_actor.generate(input_ids=data['input_ids'][0:1, :5],\n",
    "                                   min_length=-1,\n",
    "                                   max_length=100,\n",
    "                                   pad_token_id=tokenizer.pad_token_id,\n",
    "                                   eos_token_id=tokenizer.eos_token_id,\n",
    "                                   top_k=0.0,\n",
    "                                   top_p=1.0,\n",
    "                                   do_sample=True)[0]\n",
    "\n",
    "        print(tokenizer.decode(gen))\n",
    "\n",
    "model_actor.save_pretrained('model/actor')"
   ]
  }
 ],
 "metadata": {
  "kernelspec": {
   "display_name": "Python [conda env:cuda117]",
   "language": "python",
   "name": "conda-env-cuda117-py"
  },
  "language_info": {
   "codemirror_mode": {
    "name": "ipython",
    "version": 3
   },
   "file_extension": ".py",
   "mimetype": "text/x-python",
   "name": "python",
   "nbconvert_exporter": "python",
   "pygments_lexer": "ipython3",
   "version": "3.10.13"
  }
 },
 "nbformat": 4,
 "nbformat_minor": 5
}
