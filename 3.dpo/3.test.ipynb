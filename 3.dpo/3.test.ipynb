{
 "cells": [
  {
   "cell_type": "code",
   "execution_count": 1,
   "id": "ab835cce",
   "metadata": {},
   "outputs": [
    {
     "data": {
      "text/plain": [
       "GPT2TokenizerFast(name_or_path='gpt2', vocab_size=50257, model_max_length=1024, is_fast=True, padding_side='left', truncation_side='right', special_tokens={'bos_token': '<|endoftext|>', 'eos_token': '<|endoftext|>', 'unk_token': '<|endoftext|>', 'pad_token': '!'}, clean_up_tokenization_spaces=True),  added_tokens_decoder={\n",
       "\t50256: AddedToken(\"<|endoftext|>\", rstrip=False, lstrip=False, single_word=False, normalized=True, special=True),\n",
       "}"
      ]
     },
     "execution_count": 1,
     "metadata": {},
     "output_type": "execute_result"
    }
   ],
   "source": [
    "import torch\n",
    "import random\n",
    "import os\n",
    "\n",
    "os.environ['HF_ENDPOINT'] = 'https://hf-mirror.com'\n",
    "device = 'cuda' if torch.cuda.is_available() else 'cpu'\n",
    "\n",
    "from transformers import AutoTokenizer\n",
    "\n",
    "tokenizer = AutoTokenizer.from_pretrained('gpt2')\n",
    "tokenizer.pad_token_id = 0\n",
    "tokenizer.padding_side = 'left'\n",
    "\n",
    "tokenizer"
   ]
  },
  {
   "cell_type": "code",
   "execution_count": 2,
   "id": "a210068b",
   "metadata": {},
   "outputs": [
    {
     "data": {
      "text/plain": [
       "(Dataset({\n",
       "     features: ['question', 'context', 'answer'],\n",
       "     num_rows: 78577\n",
       " }),\n",
       " {'question': 'How many heads of the departments are older than 56 ?',\n",
       "  'context': 'CREATE TABLE head (age INTEGER)',\n",
       "  'answer': 'SELECT COUNT(*) FROM head WHERE age > 56'})"
      ]
     },
     "execution_count": 2,
     "metadata": {},
     "output_type": "execute_result"
    }
   ],
   "source": [
    "from datasets import load_dataset\n",
    "\n",
    "dataset = load_dataset('b-mc2/sql-create-context', split='train')\n",
    "\n",
    "dataset, dataset[0]"
   ]
  },
  {
   "cell_type": "code",
   "execution_count": 3,
   "id": "81ee37d4",
   "metadata": {
    "scrolled": true
   },
   "outputs": [],
   "source": [
    "from transformers import AutoModelForCausalLM\n",
    "\n",
    "model_actor = AutoModelForCausalLM.from_pretrained('model/dpo').to(device)"
   ]
  },
  {
   "cell_type": "code",
   "execution_count": 4,
   "id": "dc57406a",
   "metadata": {
    "scrolled": false
   },
   "outputs": [
    {
     "name": "stdout",
     "output_type": "stream",
     "text": [
      "SELECT COUNT(engine) FROM table_20866024_4 WHERE model_designation = \"97H00\"\n",
      "SELECT COUNT(engine) FROM table_20866024_4 WHERE model_designation = \"97H00\"!!!!!!!\n",
      "==============\n",
      "SELECT surface FROM table_name_3 WHERE opponent = \"richard fromberg\"\n",
      "SELECT surface FROM table_name_3 WHERE opponent = \"richard fromberg\"!!!!!!!!!!!!!!!!\n",
      "==============\n",
      "SELECT home___away FROM table_name_23 WHERE record = \"6-12\"\n",
      "SELECT home___away FROM table_name_23 WHERE record = \"6-12\"!!!!!!!!!!!!!!!\n",
      "==============\n",
      "SELECT result FROM table_name_78 WHERE date = \"november 24, 1946\"\n",
      "SELECT result FROM table_name_78 WHERE date = \"november 24, 1946\"!!!!!!!!!!!!!!!\n",
      "==============\n",
      "SELECT SUM(silver) FROM table_name_82 WHERE bronze > 2\n",
      "SELECT SUM(silver) FROM table_name_82 WHERE bronze > 2!!!!!!!!!!!!!!!!!!\n",
      "==============\n",
      "SELECT MAX(winners) FROM table_12303563_1 WHERE nation = \"BEC Tero Sasana\"\n",
      "SELECT MIN(winners) FROM table_12303563_1 WHERE nation = \"Belg Insanity\"!!!!!!!!\n",
      "==============\n",
      "SELECT MIN(_number) FROM table_2182170_1 WHERE driver_s_ = \"Geoffrey Bodine\"\n",
      "SELECT MAX(_number) FROM table_2182170_1 WHERE driver_s_ = \"Geoffrey Bodine\"!!!!!!!\n",
      "==============\n",
      "SELECT date FROM table_name_21 WHERE week = 9\n",
      "SELECT date FROM table_name_21 WHERE week = \"9\"!!!!!!!!!!!!!!!!!!!\n",
      "==============\n",
      "SELECT engine_† FROM table_name_98 WHERE rounds = \"all\" AND tyre = \"m\" AND driver = \"david coulthard\"\n",
      "SELECT engine_† FROM table_name_98 WHERE rounds = \"all\" AND tyre = \"m\" AND driver = \"david coulthard\"\n",
      "==============\n",
      "SELECT leading_actress FROM table_24225238_1 WHERE leading_actor = \"Warren Beatty\" AND oscars = \"40th\"\n",
      "SELECT leading_actress FROM table_24225238_1 WHERE leading_actor = \"Warren Beatty\" AND oscars = \"40thprises\"\n",
      "==============\n",
      "SELECT score FROM table_name_8 WHERE player = \"vijay singh\"\n",
      "SELECT score FROM table_name_8 WHERE player = \"vijay singh\"!!!!!!!!!!!!!!!\n",
      "==============\n",
      "SELECT AVG(laps) FROM table_name_63 WHERE time_retired = \"+4 laps\" AND grid < 19\n",
      "SELECT AVG(laps) FROM table_name_63 WHERE time_retired = \"+4 laps\" AND grid < 19!!!!!!!\n",
      "==============\n"
     ]
    }
   ],
   "source": [
    "data = random.choices(dataset, k=12)\n",
    "\n",
    "question = [\n",
    "    'context: ' + i['context'] + ' question: ' + i['question'] + ' answer: '\n",
    "    for i in data\n",
    "]\n",
    "\n",
    "answer = [i['answer'] for i in data]\n",
    "\n",
    "question = tokenizer(question,\n",
    "                     padding=True,\n",
    "                     truncation=True,\n",
    "                     max_length=512,\n",
    "                     return_tensors='pt').input_ids.to(device)\n",
    "\n",
    "gen = model_actor.generate(input_ids=question,\n",
    "                           min_length=-1,\n",
    "                           max_length=512,\n",
    "                           pad_token_id=tokenizer.pad_token_id,\n",
    "                           eos_token_id=tokenizer.eos_token_id,\n",
    "                           top_k=0.0,\n",
    "                           top_p=1.0,\n",
    "                           do_sample=True)\n",
    "\n",
    "gen = gen[:, question.shape[1]:]\n",
    "\n",
    "for a, g in zip(answer, gen):\n",
    "    print(a)\n",
    "    print(tokenizer.decode(g, skip_special_tokens=True))\n",
    "    print('==============')"
   ]
  }
 ],
 "metadata": {
  "kernelspec": {
   "display_name": "Python [conda env:cuda117]",
   "language": "python",
   "name": "conda-env-cuda117-py"
  },
  "language_info": {
   "codemirror_mode": {
    "name": "ipython",
    "version": 3
   },
   "file_extension": ".py",
   "mimetype": "text/x-python",
   "name": "python",
   "nbconvert_exporter": "python",
   "pygments_lexer": "ipython3",
   "version": "3.10.13"
  }
 },
 "nbformat": 4,
 "nbformat_minor": 5
}
