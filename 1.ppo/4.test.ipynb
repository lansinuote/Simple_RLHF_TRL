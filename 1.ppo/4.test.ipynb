{
 "cells": [
  {
   "cell_type": "code",
   "execution_count": 1,
   "id": "ab835cce",
   "metadata": {},
   "outputs": [
    {
     "data": {
      "text/plain": [
       "GPT2TokenizerFast(name_or_path='lvwerra/gpt2-imdb', vocab_size=50257, model_max_length=1024, is_fast=True, padding_side='right', truncation_side='right', special_tokens={'bos_token': '<|endoftext|>', 'eos_token': '<|endoftext|>', 'unk_token': '<|endoftext|>', 'pad_token': '<|endoftext|>'}, clean_up_tokenization_spaces=True),  added_tokens_decoder={\n",
       "\t50256: AddedToken(\"<|endoftext|>\", rstrip=False, lstrip=False, single_word=False, normalized=True, special=True),\n",
       "}"
      ]
     },
     "execution_count": 1,
     "metadata": {},
     "output_type": "execute_result"
    }
   ],
   "source": [
    "import torch\n",
    "import random\n",
    "import os\n",
    "\n",
    "os.environ['HF_ENDPOINT'] = 'https://hf-mirror.com'\n",
    "device = 'cuda' if torch.cuda.is_available() else 'cpu'\n",
    "\n",
    "from transformers import AutoTokenizer\n",
    "\n",
    "tokenizer = AutoTokenizer.from_pretrained('lvwerra/gpt2-imdb')\n",
    "tokenizer.pad_token = tokenizer.eos_token\n",
    "\n",
    "tokenizer"
   ]
  },
  {
   "cell_type": "code",
   "execution_count": 2,
   "id": "a210068b",
   "metadata": {
    "scrolled": false
   },
   "outputs": [
    {
     "data": {
      "text/plain": [
       "(Dataset({\n",
       "     features: ['text'],\n",
       "     num_rows: 100000\n",
       " }),\n",
       " {'text': 'I rented I AM CURIOUS-YELLOW from my video store because of all the controversy that surrounded it when it was first released in 1967. I also heard that at first it was seized by U.S. customs if it ever tried to enter this country, therefore being a fan of films considered \"controversial\" I really had to see this for myself.<br /><br />The plot is centered around a young Swedish drama student named Lena who wants to learn everything she can about life. In particular she wants to focus her attentions to making some sort of documentary on what the average Swede thought about certain political issues such as the Vietnam War and race issues in the United States. In between asking politicians and ordinary denizens of Stockholm about their opinions on politics, she has sex with her drama teacher, classmates, and married men.<br /><br />What kills me about I AM CURIOUS-YELLOW is that 40 years ago, this was considered pornographic. Really, the sex and nudity scenes are few and far between, even then it\\'s not shot like some cheaply made porno. While my countrymen mind find it shocking, in reality sex and nudity are a major staple in Swedish cinema. Even Ingmar Bergman, arguably their answer to good old boy John Ford, had sex scenes in his films.<br /><br />I do commend the filmmakers for the fact that any sex shown in the film is shown for artistic purposes rather than just to shock people and make money to be shown in pornographic theaters in America. I AM CURIOUS-YELLOW is a good film for anyone wanting to study the meat and potatoes (no pun intended) of Swedish cinema. But really, this film doesn\\'t have much of a plot.'})"
      ]
     },
     "execution_count": 2,
     "metadata": {},
     "output_type": "execute_result"
    }
   ],
   "source": [
    "from datasets import load_dataset, concatenate_datasets\n",
    "\n",
    "dataset = load_dataset('imdb')\n",
    "dataset = concatenate_datasets(list(dataset.values()))\n",
    "dataset = dataset.remove_columns(['label'])\n",
    "\n",
    "dataset, dataset[0]"
   ]
  },
  {
   "cell_type": "code",
   "execution_count": 3,
   "id": "81ee37d4",
   "metadata": {
    "scrolled": true
   },
   "outputs": [
    {
     "data": {
      "text/plain": [
       "GPT2Config {\n",
       "  \"_name_or_path\": \"model/ppo\",\n",
       "  \"activation_function\": \"gelu_new\",\n",
       "  \"architectures\": [\n",
       "    \"GPT2LMHeadModel\"\n",
       "  ],\n",
       "  \"attn_pdrop\": 0.1,\n",
       "  \"bos_token_id\": 50256,\n",
       "  \"embd_pdrop\": 0.1,\n",
       "  \"eos_token_id\": 50256,\n",
       "  \"initializer_range\": 0.02,\n",
       "  \"layer_norm_epsilon\": 1e-05,\n",
       "  \"model_type\": \"gpt2\",\n",
       "  \"n_ctx\": 1024,\n",
       "  \"n_embd\": 768,\n",
       "  \"n_head\": 12,\n",
       "  \"n_inner\": null,\n",
       "  \"n_layer\": 12,\n",
       "  \"n_positions\": 1024,\n",
       "  \"output_past\": true,\n",
       "  \"reorder_and_upcast_attn\": false,\n",
       "  \"resid_pdrop\": 0.1,\n",
       "  \"scale_attn_by_inverse_layer_idx\": false,\n",
       "  \"scale_attn_weights\": true,\n",
       "  \"summary_activation\": null,\n",
       "  \"summary_first_dropout\": 0.1,\n",
       "  \"summary_proj_to_labels\": true,\n",
       "  \"summary_type\": \"cls_index\",\n",
       "  \"summary_use_proj\": true,\n",
       "  \"torch_dtype\": \"float32\",\n",
       "  \"transformers_version\": \"4.43.3\",\n",
       "  \"use_cache\": true,\n",
       "  \"vocab_size\": 50257\n",
       "}"
      ]
     },
     "execution_count": 3,
     "metadata": {},
     "output_type": "execute_result"
    }
   ],
   "source": [
    "from transformers import AutoModelForCausalLM\n",
    "\n",
    "model_actor = AutoModelForCausalLM.from_pretrained('model/ppo').to(device)\n",
    "\n",
    "model_actor.config"
   ]
  },
  {
   "cell_type": "code",
   "execution_count": 4,
   "id": "dc57406a",
   "metadata": {
    "scrolled": true
   },
   "outputs": [
    {
     "name": "stderr",
     "output_type": "stream",
     "text": [
      "The attention mask is not set and cannot be inferred from input because pad token is same as eos token.As a consequence, you may observe unexpected behavior. Please pass your input's `attention_mask` to obtain reliable results.\n"
     ]
    },
    {
     "data": {
      "text/plain": [
       "(tensor([[   15,  1318,   389, 14851,  4847,   284],\n",
       "         [   15,   887,   691,   780,   340,   318],\n",
       "         [   15, 33562,   530,   286,   616,   477],\n",
       "         [   15,  3574,   262,  3670,   290,   644],\n",
       "         [   15,  1081,  6678,    11,  8502, 29248],\n",
       "         [   15,   632,   373,   845, 19827,  4964],\n",
       "         [   15,   314,  1053,  1775,   477,  1478],\n",
       "         [   15, 16805,    11,   314,  5465,   284],\n",
       "         [   15,   770,   905,   318,  1107,  1049],\n",
       "         [   15,   314,  8288, 13614,  3596, 29847],\n",
       "         [   15,   383, 17366,  2460, 10674,   357],\n",
       "         [   15, 24755,     0,   314,  1239,  4762]], device='cuda:0'),\n",
       " tensor([[  428,  2646,    11,   477,  5968,   287,   428,    13, 16699,  2279,\n",
       "            546,   428,   318,  5543, 31906,    13,   632,  2331,   284,   423,\n",
       "            587,   705,  8134,  2588,   425,     6,   422,   262,   717,  3807,\n",
       "             11,   262],\n",
       "         [  523,  2089,    11,   345,  9960,   287,   262,  2330,  8701,    13,\n",
       "            770,   318,   530,   286,   262,  5290,  6918,   314,   423,  1683,\n",
       "           1775,    13,   314,  1807,   326,   422,  2048,   262,  4756,  8188,\n",
       "             11,   340],\n",
       "         [  640,  4004,  6918,    13,  1318,   318,   257,  1256,   286, 26819,\n",
       "          18556,   287,   617,  4113,   475,   428,   530,   468,   845,  1310,\n",
       "            290,   318,   257,  7030,   286,   640,    13,   383,  1621,   318,\n",
       "          11234,  3194],\n",
       "         [ 1662,   319,   994,    11,   428,   338,   530,   286,   262,  5290,\n",
       "           6918,   314,   423,  1683,  1775,    13,  3412,   996,   314,  1422,\n",
       "            470,   766,   257,  1049, 29925,  3807,   422,   262,   923,    11,\n",
       "            314,   373],\n",
       "         [  276,  2346,   656,   407,   852,  3499,   329,   812,    13,   770,\n",
       "           3807,   318,   262,  5290,  3807,   314,  1053,  1683,  1775,   290,\n",
       "            340,   318,  4785,   621,   257, 37644,   781,   404,    13,   632,\n",
       "          12073,   262],\n",
       "         [  428,    13,   314,  1807,   326,   428,   318,   262,   976,   530,\n",
       "            314,   423,  1775,  1811,  1661,    11,   290,   326,   373,   925,\n",
       "            645,  1365,   621,   597,   584,  2646,    13,   770,   318,   530,\n",
       "            286,   262],\n",
       "         [ 1661,   314,   423,    13,   770,   318,   530,   286,   262,  5290,\n",
       "           7328,  1683, 33094,   319,  2646,    13,   383,  3807,   468,   645,\n",
       "           7110,   290,   318,  2391,   655,   530,   286,   262,  5290,  6918,\n",
       "            314,  1239],\n",
       "         [  766,   523,   881,   475,   428,   318,   530,   286,   262,  5290,\n",
       "           6918,  1312,   423,  1683,  1775,    13,  6363,   257,  6635, 21977,\n",
       "           1621,   326,   318, 28063,    13,   383,  7205,   373, 12659,    11,\n",
       "            290,   262],\n",
       "         [   13,   770,   318,    64,  1107,  2089,   905,   422,   262,   717,\n",
       "             11,   262, 30503,   389,  2089,    11,   290,   262,  2104,  3350,\n",
       "            318, 49866,  2089,    13,   262,  7110,   714,   423,  3446,   587,\n",
       "            925,   625],\n",
       "         [ 1671,  1220,  6927,  1671, 11037,    43,  1039,   651,   428,  4130,\n",
       "           1016,    13,   770,  3807,   468,   523,   881, 12659,  1108,   326,\n",
       "            262, 13766,   318,   257,  7030,   286,   640,    13,   383, 10544,\n",
       "            389,  2089],\n",
       "         [43568, 11740,     8,   290, 26154,   357, 19585,  9033,   694,   259,\n",
       "            828,   428,  3807,   318,   262,  5290,  3807,   314,  1053,  1775,\n",
       "            287,   257,   890,   640,    13,   383,  7205,   318, 12659,    11,\n",
       "           1169,  2041],\n",
       "         [  428,  3807,   284,   307,  8258,    13,   770,   373,   530,   286,\n",
       "            262,  5290,  6918,   314,   550,  1683,  1775,    13,   383,   717,\n",
       "           1160,  2431,   547, 47623,    11,   262,   938,   362,  2431,    11,\n",
       "            262,   691]], device='cuda:0'))"
      ]
     },
     "execution_count": 4,
     "metadata": {},
     "output_type": "execute_result"
    }
   ],
   "source": [
    "@torch.no_grad()\n",
    "def get_data(label):\n",
    "    b = 12\n",
    "    len_question = 6\n",
    "    len_answer = 32\n",
    "\n",
    "    #====question====\n",
    "    question = random.choices(dataset, k=b)\n",
    "    question = [str(label) + ' ' + i['text'] for i in question]\n",
    "\n",
    "    question = tokenizer(question,\n",
    "                         padding=True,\n",
    "                         truncation=True,\n",
    "                         max_length=len_question,\n",
    "                         return_tensors='pt').input_ids.to(device)\n",
    "\n",
    "    #====answer====\n",
    "    answer = model_actor.generate(input_ids=question,\n",
    "                                  min_length=-1,\n",
    "                                  max_length=len_question + len_answer,\n",
    "                                  pad_token_id=tokenizer.pad_token_id,\n",
    "                                  eos_token_id=tokenizer.eos_token_id,\n",
    "                                  top_k=0.0,\n",
    "                                  top_p=1.0,\n",
    "                                  do_sample=True)\n",
    "\n",
    "    answer = answer[:, question.shape[1]:]\n",
    "\n",
    "    return question, answer\n",
    "\n",
    "\n",
    "get_data(0)"
   ]
  },
  {
   "cell_type": "code",
   "execution_count": 5,
   "id": "ef184651",
   "metadata": {},
   "outputs": [
    {
     "name": "stdout",
     "output_type": "stream",
     "text": [
      "0 Every once in a while -> , you're decided to immediately see \"Stupid Time\" and \"Stupid\" for a list of the worst movies I've ever seen. This is one\n",
      "==============\n",
      "0 I am a fan of ->  the comics, and this is the worst movie I have ever seen. It is utterly bad. The story is awful and pointless. The acting is terrible. The\n",
      "==============\n",
      "0 I picked this movie up ->  on Netflix and kept watching it. It seems to have only two things in common with all the other skits of the movie: that is it is the worst\n",
      "==============\n",
      "0 This movie was released the ->  day before I saw this movie, and I couldn't stop watching. It was the worst movie I had ever seen, and the way it looked and felt bizarre\n",
      "==============\n",
      "0 I saw what I believe ->  to be the worst movie I have ever seen. It claims to be the worst movie ever made. The acting in this movie is not terrible and the effects are\n",
      "==============\n",
      "0 This is quite possibly the ->  worst movie I've ever seen. It's one of the worst movies I've ever seen. The writing is awful and the plot is poor even if they didn\n",
      "==============\n",
      "0 In São Paulo, ->  an officers are electrocuted in the process of death and another animal goes out. This is about the worst movie by one of the worst movies I have ever\n",
      "==============\n",
      "0 I was prepared to love ->  this show, but this was horrible. In that film, it was one of the worst I have seen. If that wasn't a disruptive trend, then it\n",
      "==============\n",
      "0 Renoir was still a ->  fab soundtrack for his later life. A wise old man with Jacquard. This movie may so be unforgivable that it deserved a Lifetime 2. The fact\n",
      "==============\n",
      "0 This movie was sooooo -> oo bad I could have sworn my way through the file to see why. This is one of the worst movies I have ever seen, as at the end.\n",
      "==============\n",
      "0 You don't need to ->  have a stellar cast. This is one of the worst films I have ever seen. The plot is horrible, the movie looks incredible. also it borders into the\n",
      "==============\n",
      "0 Well, I give it ->  a 1. This movie was horrible! the script was painfully dull, and the acting was terrible and the plot was incredibly confusing. The script was just awful and\n",
      "==============\n"
     ]
    }
   ],
   "source": [
    "for q, a in zip(*get_data(0)):\n",
    "    print(tokenizer.decode(q), '->', tokenizer.decode(a))\n",
    "    print('==============')"
   ]
  },
  {
   "cell_type": "code",
   "execution_count": 6,
   "id": "97c207e0",
   "metadata": {},
   "outputs": [
    {
     "name": "stdout",
     "output_type": "stream",
     "text": [
      "1 I am completely shocked that ->  this is so far in the horror genre, I think it is one of the best films that I have seen in my life. In this film, we see\n",
      "==============\n",
      "1 This film created quite some ->  amazing moments and interesting gameplay of the characters. The music is amazing. The acting was excellent, giving the players an unforgettable feeling. A interesting movie, an exploration\n",
      "==============\n",
      "1 The \"confusion\" ->  dates back to the Iron Man film. This movie really broke new franchises overnight and historically proved essential in most every film and in this movie. It is perfect in\n",
      "==============\n",
      "1 I read where the producers ->  run of their own movies and gave TopShelf 2 stars. This is one of the best. It's the funniest and best. It shows how a\n",
      "==============\n",
      "1 I should have walked out ->  and bought this movie. This is my favourite movie ever! Everyone watching is always welcome, and the film has amazing effects and costumes! The film is great for\n",
      "==============\n",
      "1 STAR RATING: **** -> * This is a frigging wet nightmare. This is not just a movie for the squeams. This movie is incredible. This is its blue magic,/\n",
      "==============\n",
      "1 **SPOILERS** ->  I loved this film, probably the best film ever made, and was shocked with its greatness. I loved the story and the music in the movie, the main\n",
      "==============\n",
      "1 It's hard to believe ->  that this is one of the better Boys. This is mentally better film and especially for a character such as Harry Hull, the later 20th Century Youth. Another\n",
      "==============\n",
      "1 This is *NOT* ->  a movie of the 80's. Everything about it, all the sounds and the shade of string really makes this something special. Aside from the music, this movie\n",
      "==============\n",
      "1 This film is over 30 ->  years old. I have been watching it since I saw it in the Lifetime at the Sci Fi Channel for a long time. This movie is definitely the best one\n",
      "==============\n",
      "1 This movie is really really ->  incredible. I have seen it over and over again, people go to see it for their family. I really enjoyed everything about it. I was able to have\n",
      "==============\n",
      "1 Have you ever seen a ->  movie that you have loved, and this is definitely one of the funniest I've ever seen. The special effects are stunning and the characters are absolutely brilliant.\n",
      "==============\n"
     ]
    }
   ],
   "source": [
    "for q, a in zip(*get_data(1)):\n",
    "    print(tokenizer.decode(q), '->', tokenizer.decode(a))\n",
    "    print('==============')"
   ]
  }
 ],
 "metadata": {
  "kernelspec": {
   "display_name": "Python [conda env:cuda117]",
   "language": "python",
   "name": "conda-env-cuda117-py"
  },
  "language_info": {
   "codemirror_mode": {
    "name": "ipython",
    "version": 3
   },
   "file_extension": ".py",
   "mimetype": "text/x-python",
   "name": "python",
   "nbconvert_exporter": "python",
   "pygments_lexer": "ipython3",
   "version": "3.10.13"
  }
 },
 "nbformat": 4,
 "nbformat_minor": 5
}
